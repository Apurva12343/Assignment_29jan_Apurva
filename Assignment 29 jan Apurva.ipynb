{
 "cells": [
  {
   "cell_type": "code",
   "execution_count": 13,
   "id": "d8a1ddb4-57cc-4ea6-82fc-733dae54029f",
   "metadata": {},
   "outputs": [],
   "source": [
    "#1.who developed Python Programming Language?"
   ]
  },
  {
   "cell_type": "code",
   "execution_count": 14,
   "id": "5f57b203-483c-447d-a6eb-30cd321a8e24",
   "metadata": {},
   "outputs": [],
   "source": [
    "#Ans:Python language is designed by a Dutch programmer Guido van Rossum in the Netherlands."
   ]
  },
  {
   "cell_type": "code",
   "execution_count": 15,
   "id": "0e519f1a-3ddb-457c-9c32-2564201c0e5d",
   "metadata": {},
   "outputs": [],
   "source": [
    "#2.Which type of Programming does Python support?"
   ]
  },
  {
   "cell_type": "code",
   "execution_count": 16,
   "id": "c70fa289-a6fc-4e22-a7f9-cd393a0f753c",
   "metadata": {},
   "outputs": [],
   "source": [
    "#Ans:Python supports object-oriented, structured, and functional programming."
   ]
  },
  {
   "cell_type": "code",
   "execution_count": 17,
   "id": "7f5ebb71-1e63-4f6e-bc9e-c13bab6f50e8",
   "metadata": {},
   "outputs": [],
   "source": [
    "#3.Is Python case sensitive when dealing with identifiers?"
   ]
  },
  {
   "cell_type": "code",
   "execution_count": 18,
   "id": "d0c4eb61-5834-4cae-a9f3-ea636111b00e",
   "metadata": {},
   "outputs": [],
   "source": [
    "#Ans:yes,Python case sensitive when dealing with identifiers."
   ]
  },
  {
   "cell_type": "code",
   "execution_count": 19,
   "id": "ba3bd2b8-813c-41ed-8b16-832466076e4d",
   "metadata": {},
   "outputs": [],
   "source": [
    "#4.What is the correct extension of the Python file?"
   ]
  },
  {
   "cell_type": "code",
   "execution_count": 20,
   "id": "7077f602-9258-418d-9828-25cd8e4d6b5a",
   "metadata": {},
   "outputs": [],
   "source": [
    "#Ans:(.py) is the correct extension of the Python file."
   ]
  },
  {
   "cell_type": "code",
   "execution_count": 21,
   "id": "fe85f740-3507-445a-be81-62695c53fa20",
   "metadata": {},
   "outputs": [],
   "source": [
    "#5.Is Python code compiled or interpreted?"
   ]
  },
  {
   "cell_type": "code",
   "execution_count": 22,
   "id": "5a707673-0e9a-4d42-951d-b5714055ff28",
   "metadata": {},
   "outputs": [],
   "source": [
    "#Ans: python code is both compiled and interpreted."
   ]
  },
  {
   "cell_type": "code",
   "execution_count": 23,
   "id": "a1ab629f-982e-4977-9ea4-50466a27b86a",
   "metadata": {
    "tags": []
   },
   "outputs": [],
   "source": [
    "#6.Name a few blocks of code used to define in Python language? "
   ]
  },
  {
   "cell_type": "code",
   "execution_count": 24,
   "id": "b50ac1d2-968b-4ae7-be8c-10f053282a98",
   "metadata": {},
   "outputs": [],
   "source": [
    "# Ans:Indentation is used to define a block of code in python."
   ]
  },
  {
   "cell_type": "code",
   "execution_count": 25,
   "id": "eaa800bd-ec71-4b57-a097-389c911f6a7a",
   "metadata": {},
   "outputs": [],
   "source": [
    "#7.State a character used to give single-line comments in Python?"
   ]
  },
  {
   "cell_type": "code",
   "execution_count": 26,
   "id": "a9ddbd14-1e8a-41a6-b63e-a3184188ed42",
   "metadata": {},
   "outputs": [],
   "source": [
    "#Ans:We use the(#)symbol to write a single-line comment in python."
   ]
  },
  {
   "cell_type": "code",
   "execution_count": 27,
   "id": "538c0ea0-53ca-40dd-9eb9-279f8a2bc1cd",
   "metadata": {},
   "outputs": [],
   "source": [
    "#8.Mention functions which can help us to find the version of python that we are currently working on?"
   ]
  },
  {
   "cell_type": "code",
   "execution_count": 28,
   "id": "55bff75d-602b-41a4-b983-115cb51c0b94",
   "metadata": {},
   "outputs": [
    {
     "name": "stdout",
     "output_type": "stream",
     "text": [
      "3.10.6 | packaged by conda-forge | (main, Aug 22 2022, 20:35:26) [GCC 10.4.0]\n"
     ]
    }
   ],
   "source": [
    "import sys\n",
    "print (sys.version)"
   ]
  },
  {
   "cell_type": "code",
   "execution_count": 29,
   "id": "2da98d92-8afe-45cd-836a-b475d404b6a5",
   "metadata": {},
   "outputs": [],
   "source": [
    "#9.Python supports the creation of anonymous functions at runtime, using a construct called________."
   ]
  },
  {
   "cell_type": "code",
   "execution_count": 30,
   "id": "f52d679e-1cf8-4ef6-8a93-dc3dfaed6e71",
   "metadata": {},
   "outputs": [],
   "source": [
    "#Ans:Python supports the creation of anonymous functions at runtime, using a construct called(lambda)."
   ]
  },
  {
   "cell_type": "code",
   "execution_count": 31,
   "id": "3747977d-2a05-4dce-a049-5a7b919ddae7",
   "metadata": {},
   "outputs": [],
   "source": [
    "#10.What does pip stand for python?"
   ]
  },
  {
   "cell_type": "code",
   "execution_count": 32,
   "id": "bd9eb14c-090d-4898-a1bd-d62507aae632",
   "metadata": {},
   "outputs": [],
   "source": [
    "#Ans:pip is a package manager for python. Which is also called Preferred Installer Program."
   ]
  },
  {
   "cell_type": "code",
   "execution_count": 33,
   "id": "dee1de65-4f7e-4295-9b1e-b39f9d6b8bba",
   "metadata": {},
   "outputs": [],
   "source": [
    "#11.Mention a few built-in functions in python?"
   ]
  },
  {
   "cell_type": "code",
   "execution_count": 34,
   "id": "a5c3b5b2-0bc7-43e3-a3d5-9c24179673a5",
   "metadata": {},
   "outputs": [],
   "source": [
    "#Ans: there are too many built-in functions in python.\n",
    "# input() - Python input() function is used to get an input from the user.\n",
    "# dict() - Python dict() function is a constructor which creates a dictionary.\n",
    "# list() - The python list() creates a list in python.\n",
    "# # len() - The python len() function is used to return the length (the number of items) of an object.\n",
    "# # float() - The python float() function returns a floating-point number from a number. Etc."
   ]
  },
  {
   "cell_type": "code",
   "execution_count": 35,
   "id": "c9129490-d6fb-4a43-a7f6-c0a7cdd0f07e",
   "metadata": {},
   "outputs": [],
   "source": [
    "#12.What is the maximum possible length of an identifier in Python?"
   ]
  },
  {
   "cell_type": "code",
   "execution_count": 36,
   "id": "8ca19b45-3b8f-46c9-a14a-6c0c531c0ef0",
   "metadata": {},
   "outputs": [],
   "source": [
    "#Ans:maximum possible length of an identifier is any length. there is no limit."
   ]
  },
  {
   "cell_type": "code",
   "execution_count": 37,
   "id": "b211f681-516d-4bb7-ba7b-3050ee8120fe",
   "metadata": {},
   "outputs": [],
   "source": [
    "#13.What are the benefits of using Python?"
   ]
  },
  {
   "cell_type": "code",
   "execution_count": 38,
   "id": "6f8eceb1-cf1a-47a1-96a9-d2fb6ddd76e3",
   "metadata": {},
   "outputs": [],
   "source": [
    "#Ans:There are multiple benifits of using Python.\n",
    "# Third-Party Modules- Python Package Index (PyPI) comprises a multitude of third-party modules which makes Python integrate with other languages and platforms easily\n",
    "# Presence of Libraries- there are huge no of libraries in python.\n",
    "# Open Source and free-Python is free for use.\n",
    "# Huge Support Community-Python is open-sourced has prompted the development of communities that enrich the resource bank for continued development and adoption of the language.\n",
    "# Easy to learn-Python is easy to learn because of excellent readability.\n",
    "# User-Friendly data structures-With its built-in data structures, Python can easily construct run-time data structures including Arrays, Lists, tuples, and Files.\n",
    "# Speed-it is very fast."
   ]
  },
  {
   "cell_type": "code",
   "execution_count": 39,
   "id": "99860bbc-fc8e-4f95-8203-a30dbd73f8d5",
   "metadata": {},
   "outputs": [],
   "source": [
    "#14.How is memory managed in Python?"
   ]
  },
  {
   "cell_type": "code",
   "execution_count": 40,
   "id": "b83c67a0-65e9-4351-a695-8cba5dff9a09",
   "metadata": {},
   "outputs": [],
   "source": [
    "#Ans: According to the Python memory management documentation, Python has a private heap that stores our program’s objects and data structures. Python memory manager takes care of the bulk of the memory management work and allows us to concentrate on our code."
   ]
  },
  {
   "cell_type": "code",
   "execution_count": 41,
   "id": "d88363f6-2a41-44c0-a530-b1620ae6bf72",
   "metadata": {},
   "outputs": [],
   "source": [
    "#15.How to install Python on Windows and set path variables?"
   ]
  },
  {
   "cell_type": "code",
   "execution_count": 42,
   "id": "f6ea3b42-5f8b-4606-9a1c-166bcad25ba9",
   "metadata": {},
   "outputs": [],
   "source": [
    "# Ans:The complete path of python.exe can be added by:\n",
    "\n",
    "# 1.Right-clicking This PC and going to Properties.\n",
    "\n",
    "# 2.Clicking on the Advanced system settings in the menu on the left.\n",
    "\n",
    "# 3.Clicking on the Environment Variables button on the bottom right.\n",
    "\n",
    "# 4.In the System variables section, selecting the Path variable and clicking on Edit. The next screen will show all the directories that are currently a part of the PATH variable.\n",
    "\n",
    "# 5.Clicking on New and entering Python’s install directory.\n",
    "\n",
    "# 6.Python can now be used directly from the command prompt without having to write its location. Try executing the command python --version; it will output the version of Python installed on your system."
   ]
  },
  {
   "cell_type": "code",
   "execution_count": 43,
   "id": "8537cd6d-dac1-412e-ba16-0e7f62ca0395",
   "metadata": {},
   "outputs": [],
   "source": [
    "# 16. Is indentation required in python?"
   ]
  },
  {
   "cell_type": "code",
   "execution_count": 44,
   "id": "525eda90-d77e-4347-be19-f0461653a640",
   "metadata": {},
   "outputs": [],
   "source": [
    "# Ans: yes,identation is required in python."
   ]
  },
  {
   "cell_type": "code",
   "execution_count": null,
   "id": "8b12a9af-28f7-4bae-8cea-04a337b3b7f6",
   "metadata": {},
   "outputs": [],
   "source": []
  }
 ],
 "metadata": {
  "kernelspec": {
   "display_name": "Python 3 (ipykernel)",
   "language": "python",
   "name": "python3"
  },
  "language_info": {
   "codemirror_mode": {
    "name": "ipython",
    "version": 3
   },
   "file_extension": ".py",
   "mimetype": "text/x-python",
   "name": "python",
   "nbconvert_exporter": "python",
   "pygments_lexer": "ipython3",
   "version": "3.10.6"
  }
 },
 "nbformat": 4,
 "nbformat_minor": 5
}
